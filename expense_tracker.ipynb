{
  "nbformat": 4,
  "nbformat_minor": 0,
  "metadata": {
    "colab": {
      "provenance": []
    },
    "kernelspec": {
      "name": "python3",
      "display_name": "Python 3"
    },
    "language_info": {
      "name": "python"
    }
  },
  "cells": [
    {
      "cell_type": "code",
      "source": [
        "# Personal Expense Tracker (Intern Assignment)\n",
        "# Author: Aniket Singh\n",
        "# Description: Simple Python app to record expenses, summarize them, and give AI-like insights.\n",
        "\n",
        "from datetime import datetime\n",
        "import pandas as pd\n",
        "\n",
        "# --- Step 1: Initialize expense list ---\n",
        "expenses = []\n",
        "\n",
        "print(\"💰 Welcome to your Personal Expense Tracker!\")\n",
        "print(\"Enter your expenses below. Type 'done' when finished.\\n\")\n",
        "\n",
        "# --- Step 2: Collect user input ---\n",
        "while True:\n",
        "    category = input(\"Enter category (food, rent, travel, etc.): \").strip().lower()\n",
        "    if category == \"done\":\n",
        "        break\n",
        "    try:\n",
        "        amount = float(input(f\"Enter amount spent on {category}: ₹\"))\n",
        "        date_str = input(\"Enter date (YYYY-MM-DD) or press Enter for today: \").strip()\n",
        "        if date_str == \"\":\n",
        "            date_str = datetime.now().strftime(\"%Y-%m-%d\")\n",
        "        expenses.append({\"date\": date_str, \"category\": category, \"amount\": amount})\n",
        "    except ValueError:\n",
        "        print(\"❌ Invalid input, please try again.\")\n",
        "\n",
        "# --- Step 3: Convert to DataFrame ---\n",
        "if not expenses:\n",
        "    print(\"\\nNo expenses entered.\")\n",
        "else:\n",
        "    df = pd.DataFrame(expenses)\n",
        "    df['date'] = pd.to_datetime(df['date'])\n",
        "    total_spent = df['amount'].sum()\n",
        "\n",
        "    # --- Step 4: Summary by category ---\n",
        "    print(\"\\n📊 Expense Summary:\")\n",
        "    summary = df.groupby('category')['amount'].sum().reset_index()\n",
        "    print(summary.to_string(index=False))\n",
        "\n",
        "    print(f\"\\n💵 Total Spent: ₹{total_spent:.2f}\")\n",
        "\n",
        "    # --- Step 5: Monthly summary ---\n",
        "    df['month'] = df['date'].dt.to_period('M')\n",
        "    monthly_summary = df.groupby('month')['amount'].sum().reset_index()\n",
        "    print(\"\\n📆 Monthly Summary:\")\n",
        "    print(monthly_summary.to_string(index=False))\n",
        "\n",
        "    # --- Step 6: AI-like Insights ---\n",
        "    print(\"\\n🤖 Smart Insights:\")\n",
        "    top_category = summary.loc[summary['amount'].idxmax(), 'category']\n",
        "    if total_spent > 50000:\n",
        "        print(\"⚠️ You're spending quite a bit overall. Consider setting a monthly budget.\")\n",
        "    elif total_spent > 20000:\n",
        "        print(\"💡 You're doing okay, but maybe track your top expenses more closely.\")\n",
        "    else:\n",
        "        print(\"✅ Great job! Your spending looks under control.\")\n",
        "\n",
        "    print(f\"👉 Biggest spending category: {top_category.capitalize()}\")\n",
        "    if top_category == \"food\":\n",
        "        print(\"🍔 Tip: Try meal-prepping at home to cut down food costs!\")\n",
        "    elif top_category == \"travel\":\n",
        "        print(\"✈️ Tip: Check for discount travel passes or plan ahead for cheaper tickets.\")\n",
        "    elif top_category == \"rent\":\n",
        "        print(\"🏠 Tip: Consider negotiating rent or finding shared accommodation.\")\n",
        "    else:\n",
        "        print(\"💭 Tip: Review this category and see if you can optimize it next month!\")\n",
        "\n",
        "print(\"\\n✅ Thank you for using the Expense Tracker!\")\n"
      ],
      "metadata": {
        "colab": {
          "base_uri": "https://localhost:8080/"
        },
        "id": "vg38HiPta3Ud",
        "outputId": "1f2681d0-12c8-4439-eb9b-660d9b997308"
      },
      "execution_count": 1,
      "outputs": [
        {
          "output_type": "stream",
          "name": "stdout",
          "text": [
            "💰 Welcome to your Personal Expense Tracker!\n",
            "Enter your expenses below. Type 'done' when finished.\n",
            "\n",
            "Enter category (food, rent, travel, etc.): food\n",
            "Enter amount spent on food: ₹1200\n",
            "Enter date (YYYY-MM-DD) or press Enter for today: 2025 10 05\n",
            "Enter category (food, rent, travel, etc.): travel\n",
            "Enter amount spent on travel: ₹3000\n",
            "Enter date (YYYY-MM-DD) or press Enter for today: 2025 10 04\n",
            "Enter category (food, rent, travel, etc.): done\n",
            "\n",
            "📊 Expense Summary:\n",
            "category  amount\n",
            "    food  1200.0\n",
            "  travel  3000.0\n",
            "\n",
            "💵 Total Spent: ₹4200.00\n",
            "\n",
            "📆 Monthly Summary:\n",
            "  month  amount\n",
            "2025-10  4200.0\n",
            "\n",
            "🤖 Smart Insights:\n",
            "✅ Great job! Your spending looks under control.\n",
            "👉 Biggest spending category: Travel\n",
            "✈️ Tip: Check for discount travel passes or plan ahead for cheaper tickets.\n",
            "\n",
            "✅ Thank you for using the Expense Tracker!\n"
          ]
        }
      ]
    }
  ]
}